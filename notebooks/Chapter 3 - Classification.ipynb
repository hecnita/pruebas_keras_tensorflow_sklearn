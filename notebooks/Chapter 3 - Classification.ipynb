{
 "cells": [
  {
   "cell_type": "code",
   "execution_count": 283,
   "id": "d733ceab",
   "metadata": {},
   "outputs": [],
   "source": [
    "import pandas as pd\n",
    "import numpy as np\n",
    "import matplotlib as mpl\n",
    "import matplotlib.pyplot as plt\n",
    "from sklearn.datasets import fetch_openml\n",
    "from sklearn.linear_model import SGDClassifier\n",
    "from sklearn.model_selection import StratifiedKFold, cross_val_score, \\\n",
    "    cross_val_predict\n",
    "from sklearn.base import clone, BaseEstimator\n",
    "from sklearn.metrics import confusion_matrix, precision_score, recall_score, \\\n",
    "    f1_score, precision_recall_curve, roc_curve, roc_auc_score\n",
    "from sklearn.ensemble import RandomForestClassifier\n",
    "from sklearn.svm import SVC\n",
    "from sklearn.multiclass import OneVsRestClassifier, OneVsOneClassifier\n",
    "from sklearn.preprocessing import StandardScaler\n",
    "from sklearn.neighbors import KNeighborsClassifier"
   ]
  },
  {
   "cell_type": "markdown",
   "id": "1cbebf1e",
   "metadata": {},
   "source": [
    "#### Dataset\n",
    " - Descarga de dataset MNIST\n",
    " - Formato datos\n",
    " - Obtención conjunto de entrenamiento y test"
   ]
  },
  {
   "cell_type": "code",
   "execution_count": 2,
   "id": "a45f0b6b",
   "metadata": {},
   "outputs": [
    {
     "data": {
      "text/plain": [
       "dict_keys(['data', 'target', 'frame', 'categories', 'feature_names', 'target_names', 'DESCR', 'details', 'url'])"
      ]
     },
     "execution_count": 2,
     "metadata": {},
     "output_type": "execute_result"
    }
   ],
   "source": [
    "# Dataset MNIST\n",
    "mnist = fetch_openml('mnist_784', version=1)\n",
    "# En general, los datasets de sklearn tienen una estructura de diccionar similar\n",
    "# Contiene entre otras cosas, un df de datos, una serie de etiquetas y una\n",
    "# descripción del dataset\n",
    "mnist.keys()"
   ]
  },
  {
   "cell_type": "code",
   "execution_count": 24,
   "id": "3b363719",
   "metadata": {},
   "outputs": [
    {
     "data": {
      "text/plain": [
       "((70000, 784), (70000,))"
      ]
     },
     "execution_count": 24,
     "metadata": {},
     "output_type": "execute_result"
    }
   ],
   "source": [
    "X, y = mnist['data'], mnist['target']\n",
    "X.shape, y.shape"
   ]
  },
  {
   "cell_type": "code",
   "execution_count": 22,
   "id": "1b82731b",
   "metadata": {},
   "outputs": [
    {
     "data": {
      "text/html": [
       "<div>\n",
       "<style scoped>\n",
       "    .dataframe tbody tr th:only-of-type {\n",
       "        vertical-align: middle;\n",
       "    }\n",
       "\n",
       "    .dataframe tbody tr th {\n",
       "        vertical-align: top;\n",
       "    }\n",
       "\n",
       "    .dataframe thead th {\n",
       "        text-align: right;\n",
       "    }\n",
       "</style>\n",
       "<table border=\"1\" class=\"dataframe\">\n",
       "  <thead>\n",
       "    <tr style=\"text-align: right;\">\n",
       "      <th></th>\n",
       "      <th>pixel1</th>\n",
       "      <th>pixel2</th>\n",
       "      <th>pixel3</th>\n",
       "      <th>pixel4</th>\n",
       "      <th>pixel5</th>\n",
       "      <th>pixel6</th>\n",
       "      <th>pixel7</th>\n",
       "      <th>pixel8</th>\n",
       "      <th>pixel9</th>\n",
       "      <th>pixel10</th>\n",
       "      <th>...</th>\n",
       "      <th>pixel775</th>\n",
       "      <th>pixel776</th>\n",
       "      <th>pixel777</th>\n",
       "      <th>pixel778</th>\n",
       "      <th>pixel779</th>\n",
       "      <th>pixel780</th>\n",
       "      <th>pixel781</th>\n",
       "      <th>pixel782</th>\n",
       "      <th>pixel783</th>\n",
       "      <th>pixel784</th>\n",
       "    </tr>\n",
       "  </thead>\n",
       "  <tbody>\n",
       "    <tr>\n",
       "      <th>0</th>\n",
       "      <td>0.0</td>\n",
       "      <td>0.0</td>\n",
       "      <td>0.0</td>\n",
       "      <td>0.0</td>\n",
       "      <td>0.0</td>\n",
       "      <td>0.0</td>\n",
       "      <td>0.0</td>\n",
       "      <td>0.0</td>\n",
       "      <td>0.0</td>\n",
       "      <td>0.0</td>\n",
       "      <td>...</td>\n",
       "      <td>0.0</td>\n",
       "      <td>0.0</td>\n",
       "      <td>0.0</td>\n",
       "      <td>0.0</td>\n",
       "      <td>0.0</td>\n",
       "      <td>0.0</td>\n",
       "      <td>0.0</td>\n",
       "      <td>0.0</td>\n",
       "      <td>0.0</td>\n",
       "      <td>0.0</td>\n",
       "    </tr>\n",
       "    <tr>\n",
       "      <th>1</th>\n",
       "      <td>0.0</td>\n",
       "      <td>0.0</td>\n",
       "      <td>0.0</td>\n",
       "      <td>0.0</td>\n",
       "      <td>0.0</td>\n",
       "      <td>0.0</td>\n",
       "      <td>0.0</td>\n",
       "      <td>0.0</td>\n",
       "      <td>0.0</td>\n",
       "      <td>0.0</td>\n",
       "      <td>...</td>\n",
       "      <td>0.0</td>\n",
       "      <td>0.0</td>\n",
       "      <td>0.0</td>\n",
       "      <td>0.0</td>\n",
       "      <td>0.0</td>\n",
       "      <td>0.0</td>\n",
       "      <td>0.0</td>\n",
       "      <td>0.0</td>\n",
       "      <td>0.0</td>\n",
       "      <td>0.0</td>\n",
       "    </tr>\n",
       "    <tr>\n",
       "      <th>2</th>\n",
       "      <td>0.0</td>\n",
       "      <td>0.0</td>\n",
       "      <td>0.0</td>\n",
       "      <td>0.0</td>\n",
       "      <td>0.0</td>\n",
       "      <td>0.0</td>\n",
       "      <td>0.0</td>\n",
       "      <td>0.0</td>\n",
       "      <td>0.0</td>\n",
       "      <td>0.0</td>\n",
       "      <td>...</td>\n",
       "      <td>0.0</td>\n",
       "      <td>0.0</td>\n",
       "      <td>0.0</td>\n",
       "      <td>0.0</td>\n",
       "      <td>0.0</td>\n",
       "      <td>0.0</td>\n",
       "      <td>0.0</td>\n",
       "      <td>0.0</td>\n",
       "      <td>0.0</td>\n",
       "      <td>0.0</td>\n",
       "    </tr>\n",
       "    <tr>\n",
       "      <th>3</th>\n",
       "      <td>0.0</td>\n",
       "      <td>0.0</td>\n",
       "      <td>0.0</td>\n",
       "      <td>0.0</td>\n",
       "      <td>0.0</td>\n",
       "      <td>0.0</td>\n",
       "      <td>0.0</td>\n",
       "      <td>0.0</td>\n",
       "      <td>0.0</td>\n",
       "      <td>0.0</td>\n",
       "      <td>...</td>\n",
       "      <td>0.0</td>\n",
       "      <td>0.0</td>\n",
       "      <td>0.0</td>\n",
       "      <td>0.0</td>\n",
       "      <td>0.0</td>\n",
       "      <td>0.0</td>\n",
       "      <td>0.0</td>\n",
       "      <td>0.0</td>\n",
       "      <td>0.0</td>\n",
       "      <td>0.0</td>\n",
       "    </tr>\n",
       "    <tr>\n",
       "      <th>4</th>\n",
       "      <td>0.0</td>\n",
       "      <td>0.0</td>\n",
       "      <td>0.0</td>\n",
       "      <td>0.0</td>\n",
       "      <td>0.0</td>\n",
       "      <td>0.0</td>\n",
       "      <td>0.0</td>\n",
       "      <td>0.0</td>\n",
       "      <td>0.0</td>\n",
       "      <td>0.0</td>\n",
       "      <td>...</td>\n",
       "      <td>0.0</td>\n",
       "      <td>0.0</td>\n",
       "      <td>0.0</td>\n",
       "      <td>0.0</td>\n",
       "      <td>0.0</td>\n",
       "      <td>0.0</td>\n",
       "      <td>0.0</td>\n",
       "      <td>0.0</td>\n",
       "      <td>0.0</td>\n",
       "      <td>0.0</td>\n",
       "    </tr>\n",
       "  </tbody>\n",
       "</table>\n",
       "<p>5 rows × 784 columns</p>\n",
       "</div>"
      ],
      "text/plain": [
       "   pixel1  pixel2  pixel3  pixel4  pixel5  pixel6  pixel7  pixel8  pixel9  \\\n",
       "0     0.0     0.0     0.0     0.0     0.0     0.0     0.0     0.0     0.0   \n",
       "1     0.0     0.0     0.0     0.0     0.0     0.0     0.0     0.0     0.0   \n",
       "2     0.0     0.0     0.0     0.0     0.0     0.0     0.0     0.0     0.0   \n",
       "3     0.0     0.0     0.0     0.0     0.0     0.0     0.0     0.0     0.0   \n",
       "4     0.0     0.0     0.0     0.0     0.0     0.0     0.0     0.0     0.0   \n",
       "\n",
       "   pixel10  ...  pixel775  pixel776  pixel777  pixel778  pixel779  pixel780  \\\n",
       "0      0.0  ...       0.0       0.0       0.0       0.0       0.0       0.0   \n",
       "1      0.0  ...       0.0       0.0       0.0       0.0       0.0       0.0   \n",
       "2      0.0  ...       0.0       0.0       0.0       0.0       0.0       0.0   \n",
       "3      0.0  ...       0.0       0.0       0.0       0.0       0.0       0.0   \n",
       "4      0.0  ...       0.0       0.0       0.0       0.0       0.0       0.0   \n",
       "\n",
       "   pixel781  pixel782  pixel783  pixel784  \n",
       "0       0.0       0.0       0.0       0.0  \n",
       "1       0.0       0.0       0.0       0.0  \n",
       "2       0.0       0.0       0.0       0.0  \n",
       "3       0.0       0.0       0.0       0.0  \n",
       "4       0.0       0.0       0.0       0.0  \n",
       "\n",
       "[5 rows x 784 columns]"
      ]
     },
     "execution_count": 22,
     "metadata": {},
     "output_type": "execute_result"
    }
   ],
   "source": [
    "X.head()"
   ]
  },
  {
   "cell_type": "code",
   "execution_count": 25,
   "id": "712ac878",
   "metadata": {},
   "outputs": [
    {
     "data": {
      "text/plain": [
       "((70000, 784), (70000,))"
      ]
     },
     "execution_count": 25,
     "metadata": {},
     "output_type": "execute_result"
    }
   ],
   "source": [
    "# Se convierten a arrays\n",
    "X, y = np.array(X), np.array(y)\n",
    "X.shape, y.shape"
   ]
  },
  {
   "cell_type": "code",
   "execution_count": 32,
   "id": "ca6c0a1d",
   "metadata": {},
   "outputs": [
    {
     "data": {
      "text/plain": [
       "(array([[0., 0., 0., ..., 0., 0., 0.],\n",
       "        [0., 0., 0., ..., 0., 0., 0.],\n",
       "        [0., 0., 0., ..., 0., 0., 0.],\n",
       "        ...,\n",
       "        [0., 0., 0., ..., 0., 0., 0.],\n",
       "        [0., 0., 0., ..., 0., 0., 0.],\n",
       "        [0., 0., 0., ..., 0., 0., 0.]]),\n",
       " array(['5', '0', '4', ..., '4', '5', '6'], dtype=object))"
      ]
     },
     "execution_count": 32,
     "metadata": {},
     "output_type": "execute_result"
    }
   ],
   "source": [
    "X, y"
   ]
  },
  {
   "cell_type": "code",
   "execution_count": 29,
   "id": "fba5806f",
   "metadata": {},
   "outputs": [],
   "source": [
    "some_digit = X[0]\n",
    "some_digit_image = some_digit.reshape(28,28)"
   ]
  },
  {
   "cell_type": "code",
   "execution_count": 34,
   "id": "2fb589e7",
   "metadata": {},
   "outputs": [
    {
     "data": {
      "text/plain": [
       "((784,), (28, 28))"
      ]
     },
     "execution_count": 34,
     "metadata": {},
     "output_type": "execute_result"
    }
   ],
   "source": [
    "some_digit.shape, some_digit_image.shape"
   ]
  },
  {
   "cell_type": "code",
   "execution_count": 36,
   "id": "8a5fe047",
   "metadata": {},
   "outputs": [
    {
     "data": {
      "image/png": "[encoded data removed]",
      "text/plain": [
       "<Figure size 432x288 with 1 Axes>"
      ]
     },
     "metadata": {
      "needs_background": "light"
     },
     "output_type": "display_data"
    }
   ],
   "source": [
    "plt.imshow(some_digit_image)\n",
    "plt.axis('off')\n",
    "plt.show()"
   ]
  },
  {
   "cell_type": "code",
   "execution_count": 37,
   "id": "b04cb2f4",
   "metadata": {},
   "outputs": [
    {
     "data": {
      "image/png": "[encoded data removed]",
      "text/plain": [
       "<Figure size 432x288 with 1 Axes>"
      ]
     },
     "metadata": {
      "needs_background": "light"
     },
     "output_type": "display_data"
    }
   ],
   "source": [
    "plt.imshow(some_digit_image, cmap=\"binary\")\n",
    "plt.axis('off')\n",
    "plt.show()"
   ]
  },
  {
   "cell_type": "code",
   "execution_count": 38,
   "id": "ec8d15df",
   "metadata": {},
   "outputs": [
    {
     "data": {
      "text/plain": [
       "'5'"
      ]
     },
     "execution_count": 38,
     "metadata": {},
     "output_type": "execute_result"
    }
   ],
   "source": [
    "y[0]"
   ]
  },
  {
   "cell_type": "code",
   "execution_count": 48,
   "id": "45d3962e",
   "metadata": {},
   "outputs": [],
   "source": [
    "# Castear el array de strings a array de enteros para los algoritmos de ML\n",
    "y = y.astype(np.uint8)"
   ]
  },
  {
   "cell_type": "code",
   "execution_count": 52,
   "id": "39ba71ce",
   "metadata": {},
   "outputs": [],
   "source": [
    "# Se crea conjunto de train y test\n",
    "# MNIST ya tiene hecha la división. Las primeras 60000 corresponden con el\n",
    "# conjunto train y las restantes 10000 imágenes con conjunto de test.\n",
    "# El conjunto train ya está barajado, de esta manera se garantiza que\n",
    "# todos los folds de la validación cruzada sean similares y que no haya algún\n",
    "# fold sin alguno de los números. Además, algunos algoritmos son sensibles\n",
    "# al orden de las instancias de train y funcionan mal si obtienen muchas\n",
    "# instancias similares seguidas\n",
    "X_train, X_test, y_train, y_test = X[:60000], X[60000:], y[:60000], y[60000:]"
   ]
  },
  {
   "cell_type": "code",
   "execution_count": 53,
   "id": "3a785ed3",
   "metadata": {},
   "outputs": [
    {
     "data": {
      "text/plain": [
       "((60000, 784), (10000, 784), (60000,), (10000,))"
      ]
     },
     "execution_count": 53,
     "metadata": {},
     "output_type": "execute_result"
    }
   ],
   "source": [
    "X_train.shape, X_test.shape, y_train.shape, y_test.shape"
   ]
  },
  {
   "cell_type": "markdown",
   "id": "a6020ab1",
   "metadata": {},
   "source": [
    "#### Entrenando un clasificador binario\n",
    " - Identificar el dígito 5\n",
    " - Dos clases: 5 y no 5"
   ]
  },
  {
   "cell_type": "code",
   "execution_count": 58,
   "id": "d3a3b9c0",
   "metadata": {},
   "outputs": [],
   "source": [
    "# Obtener las etiquetas\n",
    "y_train_5 = (y_train == 5)\n",
    "y_test_5 = (y_test == 5)"
   ]
  },
  {
   "cell_type": "code",
   "execution_count": 60,
   "id": "882d111f",
   "metadata": {},
   "outputs": [
    {
     "data": {
      "text/plain": [
       "SGDClassifier(random_state=42)"
      ]
     },
     "execution_count": 60,
     "metadata": {},
     "output_type": "execute_result"
    }
   ],
   "source": [
    "# Clasificador SGD\n",
    "sgd_clf = SGDClassifier(random_state=42) # semilla para reproducir resultados\n",
    "sgd_clf.fit(X_train, y_train_5)"
   ]
  },
  {
   "cell_type": "code",
   "execution_count": 70,
   "id": "25e7b62b",
   "metadata": {},
   "outputs": [
    {
     "data": {
      "text/plain": [
       "array([ True])"
      ]
     },
     "execution_count": 70,
     "metadata": {},
     "output_type": "execute_result"
    }
   ],
   "source": [
    "sgd_clf.predict([some_digit])"
   ]
  },
  {
   "cell_type": "markdown",
   "id": "68ef5d1a",
   "metadata": {},
   "source": [
    "#### Medidas de rendimiento\n",
    " - Accuracy con validación cruzada\n",
    " - Matriz de confusión\n",
    " - Precision y Recall\n",
    " - Balance Precision/Recall (Curva Precision/Recall)\n",
    " - Curva ROC"
   ]
  },
  {
   "cell_type": "markdown",
   "id": "60e6fff2",
   "metadata": {},
   "source": [
    "Accuracy con validación cruzada"
   ]
  },
  {
   "cell_type": "code",
   "execution_count": 88,
   "id": "4bc02a9b",
   "metadata": {},
   "outputs": [
    {
     "name": "stdout",
     "output_type": "stream",
     "text": [
      "0.9669\n",
      "0.91625\n",
      "0.96785\n"
     ]
    }
   ],
   "source": [
    "# Implementación manual\n",
    "# muestreo estratificado para que genere folds que contienen un ratio\n",
    "# representativo de cada clase\n",
    "skfolds = StratifiedKFold(n_splits=3, shuffle=True, random_state=42)\n",
    "for train_index, test_index in skfolds.split(X_train, y_train_5):\n",
    "    clone_clf = clone(sgd_clf)\n",
    "    X_train_folds = X_train[train_index]\n",
    "    y_train_folds = y_train_5[train_index]\n",
    "    X_test_folds = X_train[test_index]\n",
    "    y_test_folds = y_train_5[test_index]\n",
    "    \n",
    "    clone_clf.fit(X_train_folds, y_train_folds)\n",
    "    y_pred = clone_clf.predict(X_test_folds)\n",
    "    n_correct = sum(y_pred == y_test_folds)\n",
    "    print(n_correct/len(y_pred))"
   ]
  },
  {
   "cell_type": "code",
   "execution_count": 90,
   "id": "47121e55",
   "metadata": {},
   "outputs": [
    {
     "data": {
      "text/plain": [
       "array([0.95035, 0.96035, 0.9604 ])"
      ]
     },
     "execution_count": 90,
     "metadata": {},
     "output_type": "execute_result"
    }
   ],
   "source": [
    "# Implementación automática con sklearn\n",
    "cross_val_score(sgd_clf, X_train, y_train_5, cv=3, scoring='accuracy')"
   ]
  },
  {
   "cell_type": "code",
   "execution_count": 99,
   "id": "6ce82323",
   "metadata": {},
   "outputs": [],
   "source": [
    "# Clasificador que predice todo ceros\n",
    "class Never5Classifier(BaseEstimator):\n",
    "    def fit(self, X, y=None):\n",
    "        return self\n",
    "    def predict(self, X):\n",
    "        return np.zeros((len(X), 1), dtype=bool)"
   ]
  },
  {
   "cell_type": "code",
   "execution_count": 101,
   "id": "5a5c3b02",
   "metadata": {},
   "outputs": [
    {
     "data": {
      "text/plain": [
       "array([0.91125, 0.90855, 0.90915])"
      ]
     },
     "execution_count": 101,
     "metadata": {},
     "output_type": "execute_result"
    }
   ],
   "source": [
    "never_5_clf = Never5Classifier()\n",
    "cross_val_score(never_5_clf, X_train, y_train_5, cv=3, scoring='accuracy')\n",
    "# 90% de accuracy. Solo el 10 % de las imágenes son 5.\n",
    "# Accuracy por si sola no es adecuada para clasificadores, sobretodo con\n",
    "# datasets sesgados (datasets desbalanceados, etc)"
   ]
  },
  {
   "cell_type": "markdown",
   "id": "1688b882",
   "metadata": {},
   "source": [
    "Matriz de confusión"
   ]
  },
  {
   "cell_type": "code",
   "execution_count": 105,
   "id": "e5f259ba",
   "metadata": {},
   "outputs": [],
   "source": [
    "# Pruebas con el conjunto de train\n",
    "# El siguiente método, a diferencia del método anterior que devuelve la accuracy,\n",
    "# devuelve las predicciones de la validación cruzada\n",
    "y_train_pred = cross_val_predict(sgd_clf, X_train, y_train_5, cv=3)"
   ]
  },
  {
   "cell_type": "code",
   "execution_count": 144,
   "id": "ce3516c5",
   "metadata": {},
   "outputs": [
    {
     "data": {
      "text/plain": [
       "array([ True, False, False, ...,  True, False, False])"
      ]
     },
     "execution_count": 144,
     "metadata": {},
     "output_type": "execute_result"
    }
   ],
   "source": [
    "y_train_pred"
   ]
  },
  {
   "cell_type": "code",
   "execution_count": 114,
   "id": "37506d8f",
   "metadata": {},
   "outputs": [
    {
     "data": {
      "text/plain": [
       "60000"
      ]
     },
     "execution_count": 114,
     "metadata": {},
     "output_type": "execute_result"
    }
   ],
   "source": [
    "len(y_train_pred)"
   ]
  },
  {
   "cell_type": "code",
   "execution_count": 119,
   "id": "44c6278f",
   "metadata": {},
   "outputs": [
    {
     "data": {
      "text/plain": [
       "array([[53892,   687],\n",
       "       [ 1891,  3530]], dtype=int64)"
      ]
     },
     "execution_count": 119,
     "metadata": {},
     "output_type": "execute_result"
    }
   ],
   "source": [
    "# cada fila representa la clase real (primera fila es la negativa)\n",
    "# Cada columna representa la clase predicha (primera columna es la negativa)\n",
    "confusion_matrix(y_train_5, y_train_pred)"
   ]
  },
  {
   "cell_type": "code",
   "execution_count": 124,
   "id": "998cb244",
   "metadata": {},
   "outputs": [
    {
     "data": {
      "text/plain": [
       "array([['True Negative', 'False Positive'],\n",
       "       ['False Negative', 'True Positive']], dtype='<U14')"
      ]
     },
     "execution_count": 124,
     "metadata": {},
     "output_type": "execute_result"
    }
   ],
   "source": [
    "np.array([['True Negative', 'False Positive'],\n",
    "         ['False Negative', 'True Positive']])"
   ]
  },
  {
   "cell_type": "markdown",
   "id": "783e9b3b",
   "metadata": {},
   "source": [
    "Precision, Recall, F1-score\n",
    "\n",
    "- precision = TP/TP+FP\n",
    "\n",
    "- recall = TP/TP+FN\n",
    "- f1 = 2/(1/precision + 1/recall)=TP/(TP+(FN+FP/2))"
   ]
  },
  {
   "cell_type": "code",
   "execution_count": 125,
   "id": "e5e0573a",
   "metadata": {},
   "outputs": [],
   "source": [
    "# Precision es la accuracy de las predicciones positivas\n",
    "# Precision del clasificador\n",
    "# Ratio de predicciones positivas correctamente clasificadas\n",
    "\n",
    "#Recall, sensibilidad o true positive ratio (TPR)\n",
    "# Ratio de instancias positivas que son correctamente detectadas por el clasificador"
   ]
  },
  {
   "cell_type": "code",
   "execution_count": 127,
   "id": "6fedb4f2",
   "metadata": {},
   "outputs": [
    {
     "data": {
      "text/plain": [
       "0.8370879772350012"
      ]
     },
     "execution_count": 127,
     "metadata": {},
     "output_type": "execute_result"
    }
   ],
   "source": [
    "precision_score(y_train_5, y_train_pred)\n",
    "# Cuando se afirma que una imagen repesenta un 5, solo es correcto en el\n",
    "# 83.7% de las veces"
   ]
  },
  {
   "cell_type": "code",
   "execution_count": 128,
   "id": "64e1786d",
   "metadata": {},
   "outputs": [
    {
     "data": {
      "text/plain": [
       "0.6511713705958311"
      ]
     },
     "execution_count": 128,
     "metadata": {},
     "output_type": "execute_result"
    }
   ],
   "source": [
    "recall_score(y_train_5, y_train_pred)\n",
    "# Solo detecta el 65,1% de los 5"
   ]
  },
  {
   "cell_type": "code",
   "execution_count": 131,
   "id": "f1ef85ab",
   "metadata": {},
   "outputs": [],
   "source": [
    "# Gran diferencia respecto a la accuracy obtenida previamente (95%)"
   ]
  },
  {
   "cell_type": "code",
   "execution_count": 134,
   "id": "16a38e5e",
   "metadata": {},
   "outputs": [
    {
     "data": {
      "text/plain": [
       "0.7325171197343846"
      ]
     },
     "execution_count": 134,
     "metadata": {},
     "output_type": "execute_result"
    }
   ],
   "source": [
    "# F1-score\n",
    "# Combinar precision y recall en una métrica\n",
    "# Es la media harmonica. Da mucho mas peso a valores bajos.\n",
    "# El clasificador tendrá un F1-score alto si precision y recall son altos\n",
    "# También es útil para comparar dos clasificadores\n",
    "# Favorece clasificadores que tengan precision y recal similares y no siempre\n",
    "# es lo que se quiere\n",
    "f1_score(y_train_5, y_train_pred)"
   ]
  },
  {
   "cell_type": "code",
   "execution_count": 135,
   "id": "dd498d01",
   "metadata": {},
   "outputs": [],
   "source": [
    "# Incrementar la precision reduce el recall y viceversa\n",
    "# Encontrar balance de precision y recall"
   ]
  },
  {
   "cell_type": "markdown",
   "id": "544897c2",
   "metadata": {},
   "source": [
    "Balance Precision/Recall (Curva Precision/Recall)"
   ]
  },
  {
   "cell_type": "code",
   "execution_count": 136,
   "id": "eecc0b8f",
   "metadata": {},
   "outputs": [],
   "source": [
    "# Si se aumenta el umbral de la función de decisión ('función de activación')\n",
    "# aumenta la precision pero desciende el recall\n",
    "# Si se disminuye el umbral, aumental el recall pero decae la precision"
   ]
  },
  {
   "cell_type": "code",
   "execution_count": 138,
   "id": "732e56b3",
   "metadata": {},
   "outputs": [
    {
     "data": {
      "text/plain": [
       "array([2164.22030239])"
      ]
     },
     "execution_count": 138,
     "metadata": {},
     "output_type": "execute_result"
    }
   ],
   "source": [
    "# sklearn no permite modificar el threshold directamente pero si a las\n",
    "# a las puntuaciones que se obtienen antes de realizar la predicción final\n",
    "# con el umbral seleccionado. En lugar de .predict, decision_function()\n",
    "y_scores = sgd_clf.decision_function([some_digit])\n",
    "y_scores"
   ]
  },
  {
   "cell_type": "code",
   "execution_count": 140,
   "id": "dae5a1e2",
   "metadata": {},
   "outputs": [
    {
     "data": {
      "text/plain": [
       "array([ True])"
      ]
     },
     "execution_count": 140,
     "metadata": {},
     "output_type": "execute_result"
    }
   ],
   "source": [
    "threshold = 0\n",
    "y_some_digit_pred = (y_scores > threshold)\n",
    "y_some_digit_pred"
   ]
  },
  {
   "cell_type": "code",
   "execution_count": 141,
   "id": "e3e561b1",
   "metadata": {},
   "outputs": [
    {
     "data": {
      "text/plain": [
       "array([False])"
      ]
     },
     "execution_count": 141,
     "metadata": {},
     "output_type": "execute_result"
    }
   ],
   "source": [
    "# Aumentar el threshold, decrece el recall. De un True positive pasa a un\n",
    "# False negative\n",
    "threshold = 8000\n",
    "y_some_digit_pred = (y_scores > threshold)\n",
    "y_some_digit_pred"
   ]
  },
  {
   "cell_type": "code",
   "execution_count": 146,
   "id": "3b54fb02",
   "metadata": {},
   "outputs": [],
   "source": [
    "# ¿Qué umbral usar?"
   ]
  },
  {
   "cell_type": "code",
   "execution_count": 143,
   "id": "50f28113",
   "metadata": {},
   "outputs": [],
   "source": [
    "# Método decision_function para obtener los scores de decision en lugar de las\n",
    "# predicciones\n",
    "y_scores = cross_val_predict(sgd_clf, X_train, y_train_5, cv=3, \n",
    "                  method='decision_function')"
   ]
  },
  {
   "cell_type": "code",
   "execution_count": 149,
   "id": "72e3459e",
   "metadata": {},
   "outputs": [],
   "source": [
    "# Se obtiene la precision y recall para todos los umbrales posibles\n",
    "# Curva Precision/Recall\n",
    "precisions, recalls, thresholds = precision_recall_curve(y_train_5, y_scores)"
   ]
  },
  {
   "cell_type": "code",
   "execution_count": 169,
   "id": "74ac7182",
   "metadata": {},
   "outputs": [],
   "source": [
    "def plot_precision_recall_vs_threshold(precisions, recalls, thresholds):\n",
    "    plt.plot(thresholds, precisions[:-1], \"b--\", label=\"Precision\")\n",
    "    plt.plot(thresholds, recalls[:-1], \"g-\", label=\"Recall\")\n",
    "    plt.legend(loc=\"center right\", fontsize=16)\n",
    "    plt.xlabel(\"Threshold\", fontsize=16)\n",
    "    plt.grid(True)\n",
    "    plt.axis([-50000, 50000, 0, 1])"
   ]
  },
  {
   "cell_type": "code",
   "execution_count": 202,
   "id": "85159e6b",
   "metadata": {},
   "outputs": [
    {
     "data": {
      "image/png": "[encoded data removed]",
      "text/plain": [
       "<Figure size 576x288 with 1 Axes>"
      ]
     },
     "metadata": {
      "needs_background": "light"
     },
     "output_type": "display_data"
    }
   ],
   "source": [
    "plt.figure(figsize=(8, 4))  \n",
    "plot_precision_recall_vs_threshold(precisions, recalls, thresholds)\n",
    "plt.show()"
   ]
  },
  {
   "cell_type": "code",
   "execution_count": 203,
   "id": "46f19f6a",
   "metadata": {},
   "outputs": [],
   "source": [
    "# Se observan irregularidades en la precision. Esto se debe a que a veces cuando\n",
    "# se aumenta el umbral la precision decae (en general aumenta)\n",
    "# El recall solo puede decaer cuando aumental el umbral (curva mas suave)"
   ]
  },
  {
   "cell_type": "code",
   "execution_count": 210,
   "id": "3cc16e77",
   "metadata": {},
   "outputs": [],
   "source": [
    "def plot_precision_vs_recall(precisions, recalls):\n",
    "    plt.plot(recalls, precisions, \"b-\")\n",
    "    plt.xlabel(\"Recall\")\n",
    "    plt.ylabel(\"Precision\")\n",
    "    plt.axis([0, 1, 0, 1])\n",
    "    plt.grid(True)"
   ]
  },
  {
   "cell_type": "code",
   "execution_count": 211,
   "id": "650f6014",
   "metadata": {},
   "outputs": [
    {
     "data": {
      "image/png": "[encoded data removed]",
      "text/plain": [
       "<Figure size 576x432 with 1 Axes>"
      ]
     },
     "metadata": {
      "needs_background": "light"
     },
     "output_type": "display_data"
    }
   ],
   "source": [
    "# Curva precision vs recall\n",
    "plt.figure(figsize=(8, 6))\n",
    "plot_precision_vs_recall(precisions, recalls)\n",
    "plt.show()"
   ]
  },
  {
   "cell_type": "code",
   "execution_count": 212,
   "id": "cedcc8b5",
   "metadata": {},
   "outputs": [],
   "source": [
    "# La precision empieza a decaer bruscamente alrededor del 80% del recall.\n",
    "# Seleccionar un balance precision/recall antes de esta caida, en torno al 60%\n",
    "# del recall, aunque este depende del proyecto"
   ]
  },
  {
   "cell_type": "code",
   "execution_count": 214,
   "id": "5750885f",
   "metadata": {},
   "outputs": [
    {
     "data": {
      "text/plain": [
       "3370.0194991439557"
      ]
     },
     "execution_count": 214,
     "metadata": {},
     "output_type": "execute_result"
    }
   ],
   "source": [
    "# Obtener predicciones si se quiere un 90% de precision\n",
    "thresholds_90_precision = thresholds[np.argmax(precisions>=0.90)]\n",
    "thresholds_90_precision"
   ]
  },
  {
   "cell_type": "code",
   "execution_count": 215,
   "id": "a6a610f5",
   "metadata": {},
   "outputs": [],
   "source": [
    "y_train_pred_90 = (y_scores >= thresholds_90_precision)"
   ]
  },
  {
   "cell_type": "code",
   "execution_count": 217,
   "id": "137706c1",
   "metadata": {},
   "outputs": [
    {
     "data": {
      "text/plain": [
       "(0.9000345901072293, 0.4799852425751706)"
      ]
     },
     "execution_count": 217,
     "metadata": {},
     "output_type": "execute_result"
    }
   ],
   "source": [
    "# Chequeo\n",
    "precision_score(y_train_5, y_train_pred_90), recall_score(y_train_5, y_train_pred_90)"
   ]
  },
  {
   "cell_type": "code",
   "execution_count": 218,
   "id": "dcff2f0f",
   "metadata": {},
   "outputs": [],
   "source": [
    "# Un clasificador con una gran precision no es útil si se tiene un recall\n",
    "# demasiado bajo."
   ]
  },
  {
   "cell_type": "markdown",
   "id": "0e627d71",
   "metadata": {},
   "source": [
    "Curva ROC"
   ]
  },
  {
   "cell_type": "code",
   "execution_count": 219,
   "id": "c1c0986e",
   "metadata": {},
   "outputs": [],
   "source": [
    "# Similar al anterior pero se grafica recall (true positive rate, sensibilidad)\n",
    "# vs false positive rate (FPR).\n",
    "# FPR es el ratio de instancias negativas que son clasificadas incorrectamente\n",
    "# como positivas\n",
    "# TNR es el ratio de instancias negativas que son clasifiicadas correctamente\n",
    "# como negativas\n",
    "# TNR = TN/(TN+FP) --> especifidad\n",
    "# FPR = 1 - TNR = FP/(TN+FP)"
   ]
  },
  {
   "cell_type": "code",
   "execution_count": 221,
   "id": "0e21c51e",
   "metadata": {},
   "outputs": [],
   "source": [
    "fpr, tpr, thresholds = roc_curve(y_train_5, y_scores)"
   ]
  },
  {
   "cell_type": "code",
   "execution_count": 224,
   "id": "10f0ca0a",
   "metadata": {},
   "outputs": [],
   "source": [
    "def plot_roc_curve(fpr, tpr, label=None):\n",
    "    plt.plot(fpr, tpr, linewidth=2, label=label)\n",
    "    plt.plot([0, 1], [0, 1], 'k--')\n",
    "    plt.axis([0, 1, 0, 1])\n",
    "    plt.xlabel('False Positive Rate')\n",
    "    plt.ylabel('True Positive Rate (Recall)')\n",
    "    plt.grid(True) "
   ]
  },
  {
   "cell_type": "code",
   "execution_count": 225,
   "id": "98e62eba",
   "metadata": {},
   "outputs": [
    {
     "data": {
      "image/png": "[encoded data removed]",
      "text/plain": [
       "<Figure size 576x432 with 1 Axes>"
      ]
     },
     "metadata": {
      "needs_background": "light"
     },
     "output_type": "display_data"
    }
   ],
   "source": [
    "plt.figure(figsize=(8, 6)) \n",
    "plot_roc_curve(fpr, tpr, label=None)\n",
    "plt.show()"
   ]
  },
  {
   "cell_type": "code",
   "execution_count": 226,
   "id": "33c56f41",
   "metadata": {},
   "outputs": [],
   "source": [
    "# Cuanto mayor es recall, mas falsos positivos\n",
    "# La línea de puntos representa la curva ROC para un clasificador aleatorio.\n",
    "# Un buen clasificador tiene que estar lo mas alejado posible de esta línea\n",
    "# (hacia esquina superior izquierda)"
   ]
  },
  {
   "cell_type": "code",
   "execution_count": 231,
   "id": "a15945a2",
   "metadata": {},
   "outputs": [],
   "source": [
    "# ¿Cúal de las dos curvas emplear?\n",
    "# Como regla general la curva de precision/recall si hay pocos ejs de la clase\n",
    "# (clases desbalanceadas) positiva o cuando te importan mas los falsos positivos\n",
    "# que los falsos negativos."
   ]
  },
  {
   "cell_type": "code",
   "execution_count": 230,
   "id": "0e15ba7f",
   "metadata": {},
   "outputs": [],
   "source": [
    "# Mirando el la curva ROC y el AUC, parece que el clasificador es bueno, pero\n",
    "# se debe a que hay pocos positivos respecto a la clase negativa (no 5).\n",
    "# En cambio, en la curva PR se observa que el clasificador tiene margen de\n",
    "# mejora"
   ]
  },
  {
   "cell_type": "code",
   "execution_count": 228,
   "id": "9e57933b",
   "metadata": {},
   "outputs": [
    {
     "data": {
      "text/plain": [
       "0.9604938554008616"
      ]
     },
     "execution_count": 228,
     "metadata": {},
     "output_type": "execute_result"
    }
   ],
   "source": [
    "# ROC AUC\n",
    "# Para comparar clasificadores se puede medir el área bajo la curva (AUC)\n",
    "# Un clasificador perfecto tiene un AUC igual a 1 y uno aleatorio 0.5\n",
    "roc_auc_score(y_train_5, y_scores)"
   ]
  },
  {
   "cell_type": "code",
   "execution_count": 233,
   "id": "af006289",
   "metadata": {},
   "outputs": [],
   "source": [
    "# Entrenar un clasificador random forest para comparar las curvas ROC y los AUC\n",
    "# Random forest y algunos otros algoritmos no tienen el método decision_function\n",
    "# De forma alternativa se tiene el método predict_proba\n",
    "forest_clf = RandomForestClassifier(random_state=42)\n",
    "y_probas_forest = cross_val_predict(forest_clf, X_train, y_train_5, cv=3,\n",
    "                 method='predict_proba')"
   ]
  },
  {
   "cell_type": "code",
   "execution_count": 234,
   "id": "9719024a",
   "metadata": {},
   "outputs": [
    {
     "data": {
      "text/plain": [
       "array([[0.11, 0.89],\n",
       "       [0.99, 0.01],\n",
       "       [0.96, 0.04],\n",
       "       ...,\n",
       "       [0.02, 0.98],\n",
       "       [0.92, 0.08],\n",
       "       [0.94, 0.06]])"
      ]
     },
     "execution_count": 234,
     "metadata": {},
     "output_type": "execute_result"
    }
   ],
   "source": [
    "y_probas_forest"
   ]
  },
  {
   "cell_type": "code",
   "execution_count": 235,
   "id": "bed44eaa",
   "metadata": {},
   "outputs": [],
   "source": [
    "# la curva ROC necesita las etiquetas y las puntuaciones, aunque en vez de las\n",
    "# puntuaciones se le puede pasar las probabilidades de clase.\n",
    "# En este caso, pasar la prob. de la clase positiva como puntuación\n",
    "y_scores_forest = y_probas_forest[:,1]\n",
    "fpr_forest, tpr_forest, thresholds = roc_curve(y_train_5, y_scores_forest)"
   ]
  },
  {
   "cell_type": "code",
   "execution_count": 239,
   "id": "d7150562",
   "metadata": {},
   "outputs": [
    {
     "data": {
      "image/png": "[encoded data removed]",
      "text/plain": [
       "<Figure size 576x432 with 1 Axes>"
      ]
     },
     "metadata": {
      "needs_background": "light"
     },
     "output_type": "display_data"
    }
   ],
   "source": [
    "plt.figure(figsize=(8, 6)) \n",
    "plt.plot(fpr, tpr, 'b:', label='SGD')\n",
    "plot_roc_curve(fpr_forest, tpr_forest, \"Random Forest\")\n",
    "plt.legend(loc='lower right')\n",
    "plt.show()"
   ]
  },
  {
   "cell_type": "code",
   "execution_count": 240,
   "id": "32c47df2",
   "metadata": {},
   "outputs": [],
   "source": [
    "# La curva ROC de random forest se ve mucho mas escorada a la esquina superior\n",
    "# izquierda que la curva ROC de sgd (por lo tanto, mejor)"
   ]
  },
  {
   "cell_type": "code",
   "execution_count": 241,
   "id": "b328156d",
   "metadata": {},
   "outputs": [
    {
     "data": {
      "text/plain": [
       "0.9983436731328145"
      ]
     },
     "execution_count": 241,
     "metadata": {},
     "output_type": "execute_result"
    }
   ],
   "source": [
    "# El AUC tb mejora casi un 4%\n",
    "roc_auc_score(y_train_5, y_scores_forest)"
   ]
  },
  {
   "cell_type": "code",
   "execution_count": 245,
   "id": "e45dcc98",
   "metadata": {},
   "outputs": [],
   "source": [
    "y_train_pred_forest = cross_val_predict(forest_clf, X_train, y_train_5, cv=3)"
   ]
  },
  {
   "cell_type": "code",
   "execution_count": 246,
   "id": "3723fee8",
   "metadata": {},
   "outputs": [
    {
     "data": {
      "text/plain": [
       "(0.9905083315756169, 0.8662608374838591)"
      ]
     },
     "execution_count": 246,
     "metadata": {},
     "output_type": "execute_result"
    }
   ],
   "source": [
    "precision_score(y_train_5, y_train_pred_forest), recall_score(y_train_5, y_train_pred_forest)"
   ]
  },
  {
   "cell_type": "code",
   "execution_count": 264,
   "id": "9345bfa6",
   "metadata": {},
   "outputs": [
    {
     "data": {
      "text/plain": [
       "(0.9905083315756169, 0.8662608374838591)"
      ]
     },
     "execution_count": 264,
     "metadata": {},
     "output_type": "execute_result"
    }
   ],
   "source": [
    "precision_score(y_train_5, (y_scores_forest>0.5)), recall_score(y_train_5, (y_scores_forest>0.5))"
   ]
  },
  {
   "cell_type": "markdown",
   "id": "43252fc8",
   "metadata": {},
   "source": [
    "#### Clasificación multiclase"
   ]
  },
  {
   "cell_type": "code",
   "execution_count": 265,
   "id": "82a55031",
   "metadata": {},
   "outputs": [],
   "source": [
    "# Clasificador que distingue mas de dos clases\n",
    "# Clasificadores binarios (Regresión ligística, SVM)\n",
    "# Clasificadores multiclase (SGD, random forest y Naive Bayes)"
   ]
  },
  {
   "cell_type": "code",
   "execution_count": 266,
   "id": "5f348995",
   "metadata": {},
   "outputs": [],
   "source": [
    "# Estrategias para llevar a cabo clasificación multiclase con clasificadores\n",
    "# binarios\n",
    "# - One versus the rest (OvR) o One versus all --> Entrenar un clasificador\n",
    "#   binario por cada clase. Seleccionar la clase con el algoritmo que tenga\n",
    "#   mayor puntuación. Ej. 10 clases, 10 clasificadores\n",
    "# - One versus One (OvO) --> Entrenar un clasificador binario para cada par de\n",
    "#   clases y escoger aquella clase que haya ganado mas 'duelos'. Si hay N clases,\n",
    "#   es necesario entrenar N x (N-1)/2 clasificadores.\n",
    "#   Ej. 10 clases, 45 clasificadores. Ventaja: El clasificador solo necesita\n",
    "#   ser entrenado en la parte del dataset que contenga las dos clases."
   ]
  },
  {
   "cell_type": "code",
   "execution_count": 267,
   "id": "f7ad22b1",
   "metadata": {},
   "outputs": [],
   "source": [
    "# Para algunos algoritmos como SVM que escelan mal, es mas adecuado seguir una\n",
    "# estrategia OvO. De esta manera se entrenan muchos clasificadores en conjuntos\n",
    "# de entrenamiento pequeños. Para la mayoria de clasificadores binarios, la\n",
    "# opción mas adecuada es seguir la estrategia OvR.\n",
    "\n",
    "# sklearn detecta cuando se intenta entrenar un algoritmo de clasificación binaria\n",
    "# para una tarea de clasificación multiclase y automáticamente ejecuta una de\n",
    "# las dos estrategias en función del algoritmo."
   ]
  },
  {
   "cell_type": "code",
   "execution_count": 269,
   "id": "8b6336e9",
   "metadata": {},
   "outputs": [
    {
     "data": {
      "text/plain": [
       "array([5], dtype=uint8)"
      ]
     },
     "execution_count": 269,
     "metadata": {},
     "output_type": "execute_result"
    }
   ],
   "source": [
    "svm_clf = SVC()\n",
    "svm_clf.fit(X_train, y_train) # Se le pasan las 10 clases\n",
    "svm_clf.predict([some_digit])"
   ]
  },
  {
   "cell_type": "code",
   "execution_count": 270,
   "id": "3611e8da",
   "metadata": {},
   "outputs": [
    {
     "data": {
      "text/plain": [
       "array([[ 1.72501977,  2.72809088,  7.2510018 ,  8.3076379 , -0.31087254,\n",
       "         9.3132482 ,  1.70975103,  2.76765202,  6.23049537,  4.84771048]])"
      ]
     },
     "execution_count": 270,
     "metadata": {},
     "output_type": "execute_result"
    }
   ],
   "source": [
    "# 10 puntuaciones por instancia\n",
    "some_digit_scores = svm_clf.decision_function([some_digit])\n",
    "some_digit_scores"
   ]
  },
  {
   "cell_type": "code",
   "execution_count": 271,
   "id": "fa8603bc",
   "metadata": {},
   "outputs": [
    {
     "data": {
      "text/plain": [
       "5"
      ]
     },
     "execution_count": 271,
     "metadata": {},
     "output_type": "execute_result"
    }
   ],
   "source": [
    "# La clase 5 tiene la puntuación mas alta\n",
    "np.argmax(some_digit_scores) # devuelve índice"
   ]
  },
  {
   "cell_type": "code",
   "execution_count": 272,
   "id": "257f54c6",
   "metadata": {},
   "outputs": [
    {
     "data": {
      "text/plain": [
       "array([0, 1, 2, 3, 4, 5, 6, 7, 8, 9], dtype=uint8)"
      ]
     },
     "execution_count": 272,
     "metadata": {},
     "output_type": "execute_result"
    }
   ],
   "source": [
    "# clases\n",
    "svm_clf.classes_"
   ]
  },
  {
   "cell_type": "code",
   "execution_count": 273,
   "id": "f69e0ed1",
   "metadata": {},
   "outputs": [
    {
     "data": {
      "text/plain": [
       "5"
      ]
     },
     "execution_count": 273,
     "metadata": {},
     "output_type": "execute_result"
    }
   ],
   "source": [
    "svm_clf.classes_[5]"
   ]
  },
  {
   "cell_type": "code",
   "execution_count": 275,
   "id": "27fcaafd",
   "metadata": {},
   "outputs": [
    {
     "data": {
      "text/plain": [
       "array([5], dtype=uint8)"
      ]
     },
     "execution_count": 275,
     "metadata": {},
     "output_type": "execute_result"
    }
   ],
   "source": [
    "# Para forzar a sklearn a usar una u otra estrategia, se pueden usar las clases\n",
    "# OneVsOneClassifier y OneVsRestClassifier\n",
    "ovr_clf = OneVsRestClassifier(SVC())\n",
    "ovr_clf.fit(X_train, y_train)\n",
    "ovr_clf.predict([some_digit])"
   ]
  },
  {
   "cell_type": "code",
   "execution_count": 277,
   "id": "f988d727",
   "metadata": {},
   "outputs": [
    {
     "data": {
      "text/plain": [
       "[SVC(), SVC(), SVC(), SVC(), SVC(), SVC(), SVC(), SVC(), SVC(), SVC()]"
      ]
     },
     "execution_count": 277,
     "metadata": {},
     "output_type": "execute_result"
    }
   ],
   "source": [
    "ovr_clf.estimators_ # ha entrenado 10 clasificadores svm"
   ]
  },
  {
   "cell_type": "code",
   "execution_count": 278,
   "id": "9cbe0ff9",
   "metadata": {},
   "outputs": [
    {
     "data": {
      "text/plain": [
       "array([3], dtype=uint8)"
      ]
     },
     "execution_count": 278,
     "metadata": {},
     "output_type": "execute_result"
    }
   ],
   "source": [
    "# Entrenando clasificadores multiclase\n",
    "# En estos clasificadores no tiene que ejecutar ninguna estrategia\n",
    "sgd_clf.fit(X_train, y_train)\n",
    "sgd_clf.predict([some_digit]) # Predice erróneamente un 3"
   ]
  },
  {
   "cell_type": "code",
   "execution_count": 279,
   "id": "64eb83ab",
   "metadata": {},
   "outputs": [
    {
     "data": {
      "text/plain": [
       "array([[-31893.03095419, -34419.69069632,  -9530.63950739,\n",
       "          1823.73154031, -22320.14822878,  -1385.80478895,\n",
       "        -26188.91070951, -16147.51323997,  -4604.35491274,\n",
       "        -12050.767298  ]])"
      ]
     },
     "execution_count": 279,
     "metadata": {},
     "output_type": "execute_result"
    }
   ],
   "source": [
    "sgd_clf.decision_function([some_digit])"
   ]
  },
  {
   "cell_type": "code",
   "execution_count": 280,
   "id": "c261641c",
   "metadata": {},
   "outputs": [
    {
     "data": {
      "text/plain": [
       "array([0.87365, 0.85835, 0.8689 ])"
      ]
     },
     "execution_count": 280,
     "metadata": {},
     "output_type": "execute_result"
    }
   ],
   "source": [
    "# Evaluar el modelo con accuracy en validación cruzada\n",
    "# Teniendo en cuenta que un clasificador aleatorio obtiene una accuracy del 10%,\n",
    "# la accuracy obtenida no está nada mal, aunque se puede mejorar.\n",
    "cross_val_score(sgd_clf, X_train, y_train, cv=3, scoring=\"accuracy\")"
   ]
  },
  {
   "cell_type": "code",
   "execution_count": 290,
   "id": "76d13a8a",
   "metadata": {},
   "outputs": [
    {
     "data": {
      "text/plain": [
       "array([0.8983, 0.891 , 0.9018])"
      ]
     },
     "execution_count": 290,
     "metadata": {},
     "output_type": "execute_result"
    }
   ],
   "source": [
    "# Escalando las entradas mejoran las predicciones\n",
    "scaler = StandardScaler()\n",
    "X_train_scaled = scaler.fit_transform(X_train.astype(np.float64))\n",
    "cross_val_score(sgd_clf, X_train_scaled, y_train, cv=3, scoring='accuracy')"
   ]
  },
  {
   "cell_type": "markdown",
   "id": "c427cbdb",
   "metadata": {},
   "source": [
    "#### Análisis de errores"
   ]
  },
  {
   "cell_type": "code",
   "execution_count": 293,
   "id": "64b4a927",
   "metadata": {},
   "outputs": [],
   "source": [
    "# Partiendo de un modelo prometedor escogido y habiendo ajustado sus \n",
    "# hiperparámetros, se quiere mejorar su rendimiento analizando los tipos de\n",
    "# errores que comete."
   ]
  },
  {
   "cell_type": "code",
   "execution_count": 291,
   "id": "99d022ee",
   "metadata": {},
   "outputs": [
    {
     "data": {
      "text/plain": [
       "array([[5577,    0,   22,    5,    8,   43,   36,    6,  225,    1],\n",
       "       [   0, 6400,   37,   24,    4,   44,    4,    7,  212,   10],\n",
       "       [  27,   27, 5220,   92,   73,   27,   67,   36,  378,   11],\n",
       "       [  22,   17,  117, 5227,    2,  203,   27,   40,  403,   73],\n",
       "       [  12,   14,   41,    9, 5182,   12,   34,   27,  347,  164],\n",
       "       [  27,   15,   30,  168,   53, 4444,   75,   14,  535,   60],\n",
       "       [  30,   15,   42,    3,   44,   97, 5552,    3,  131,    1],\n",
       "       [  21,   10,   51,   30,   49,   12,    3, 5684,  195,  210],\n",
       "       [  17,   63,   48,   86,    3,  126,   25,   10, 5429,   44],\n",
       "       [  25,   18,   30,   64,  118,   36,    1,  179,  371, 5107]],\n",
       "      dtype=int64)"
      ]
     },
     "execution_count": 291,
     "metadata": {},
     "output_type": "execute_result"
    }
   ],
   "source": [
    "y_train_pred = cross_val_predict(sgd_clf, X_train_scaled, y_train, cv=3)\n",
    "conf_mx = confusion_matrix(y_train, y_train_pred)\n",
    "conf_mx"
   ]
  },
  {
   "cell_type": "code",
   "execution_count": 292,
   "id": "69a77871",
   "metadata": {},
   "outputs": [
    {
     "data": {
      "image/png": "[encoded data removed]",
      "text/plain": [
       "<Figure size 288x288 with 1 Axes>"
      ]
     },
     "metadata": {
      "needs_background": "light"
     },
     "output_type": "display_data"
    }
   ],
   "source": [
    "# Difícil ver cosas con tantos números. Representación de la matriz de confusión\n",
    "# como imágen\n",
    "plt.matshow(conf_mx, cmap=plt.cm.gray)\n",
    "plt.show()"
   ]
  },
  {
   "cell_type": "code",
   "execution_count": 294,
   "id": "64e6815a",
   "metadata": {},
   "outputs": [],
   "source": [
    "# La mayoría de imágenes están en la diagonal por lo que están clasificadas \n",
    "# correctamente. La celda, en la diagonal, correspondiente a los 5 se ve\n",
    "# ligeramente más oscura por lo que en esta clase no lo hace tan bien como en \n",
    "# otras."
   ]
  },
  {
   "cell_type": "code",
   "execution_count": 302,
   "id": "85b274f9",
   "metadata": {},
   "outputs": [
    {
     "data": {
      "image/png": "[encoded data removed]",
      "text/plain": [
       "<Figure size 288x288 with 1 Axes>"
      ]
     },
     "metadata": {
      "needs_background": "light"
     },
     "output_type": "display_data"
    }
   ],
   "source": [
    "# Enfatizar los errores\n",
    "# Dividir cada valor entre el número de imagenes en la clase correspondiente\n",
    "# (comparar ratios de error en vez de números absolutos de errores)\n",
    "row_sums = conf_mx.sum(axis=1, keepdims=True)\n",
    "norm_conf_mx = conf_mx / row_sums\n",
    "np.fill_diagonal(norm_conf_mx, 0) # rellenar con 0s la diagonal para ver solo errores\n",
    "plt.matshow(norm_conf_mx,cmap=plt.cm.gray)\n",
    "plt.show()"
   ]
  },
  {
   "cell_type": "code",
   "execution_count": 303,
   "id": "87a5ed82",
   "metadata": {},
   "outputs": [],
   "source": [
    "# Se puede observar los tipos de errores que el clasificador hace.\n",
    "# - Muchas imágenes de cualquiero clase fueron clasificadas como 8. La clase 8\n",
    "#   clasifica bien.\n",
    "# - Confunde los 3 con los 5"
   ]
  },
  {
   "cell_type": "code",
   "execution_count": 304,
   "id": "183c0802",
   "metadata": {},
   "outputs": [],
   "source": [
    "# Teniendo la información anterior se puede mejorar el clasificador con\n",
    "# distintas estrategias. Esfuerzos centrados en reducir los falsos 8.\n",
    "# - Recopilar más imágenes que parezcan 8 (no lo son), para que pueda aprender\n",
    "#   a distinguirlos.\n",
    "# - Diseñar nuevas atributos. Por ej. contando el número de bucles cerrados que\n",
    "#   tienen los números.\n",
    "# - Preprocesar las imágenes para destacar algunos patrones, por ej., los bucles\n",
    "#   cerrados"
   ]
  },
  {
   "cell_type": "code",
   "execution_count": 308,
   "id": "93e77f9a",
   "metadata": {},
   "outputs": [],
   "source": [
    "def plot_digits(instances, images_per_row=10, **options):\n",
    "    size = 28\n",
    "    images_per_row = min(len(instances), images_per_row)\n",
    "    # This is equivalent to n_rows = ceil(len(instances) / images_per_row):\n",
    "    n_rows = (len(instances) - 1) // images_per_row + 1\n",
    "\n",
    "    # Append empty images to fill the end of the grid, if needed:\n",
    "    n_empty = n_rows * images_per_row - len(instances)\n",
    "    padded_instances = np.concatenate([instances, np.zeros((n_empty, size * size))], axis=0)\n",
    "\n",
    "    # Reshape the array so it's organized as a grid containing 28×28 images:\n",
    "    image_grid = padded_instances.reshape((n_rows, images_per_row, size, size))\n",
    "\n",
    "    # Combine axes 0 and 2 (vertical image grid axis, and vertical image axis),\n",
    "    # and axes 1 and 3 (horizontal axes). We first need to move the axes that we\n",
    "    # want to combine next to each other, using transpose(), and only then we\n",
    "    # can reshape:\n",
    "    big_image = image_grid.transpose(0, 2, 1, 3).reshape(n_rows * size,\n",
    "                                                         images_per_row * size)\n",
    "    # Now that we have a big image, we just need to show it:\n",
    "    plt.imshow(big_image, cmap = mpl.cm.binary, **options)\n",
    "    plt.axis(\"off\")"
   ]
  },
  {
   "cell_type": "code",
   "execution_count": 309,
   "id": "7c54355d",
   "metadata": {},
   "outputs": [
    {
     "data": {
      "image/png": "[encoded data removed]",
      "text/plain": [
       "<Figure size 576x576 with 4 Axes>"
      ]
     },
     "metadata": {
      "needs_background": "light"
     },
     "output_type": "display_data"
    }
   ],
   "source": [
    "# También se puede analizar errores individuales. Por ej. observar los números\n",
    "# 3 y 5\n",
    "cl_a, cl_b = 3, 5\n",
    "X_aa = X_train[(y_train == cl_a) & (y_train_pred == cl_a)]\n",
    "X_ab = X_train[(y_train == cl_a) & (y_train_pred == cl_b)]\n",
    "X_ba = X_train[(y_train == cl_b) & (y_train_pred == cl_a)]\n",
    "X_bb = X_train[(y_train == cl_b) & (y_train_pred == cl_b)]\n",
    "\n",
    "plt.figure(figsize=(8,8))\n",
    "plt.subplot(221); plot_digits(X_aa[:25], images_per_row=5)\n",
    "plt.subplot(222); plot_digits(X_ab[:25], images_per_row=5)\n",
    "plt.subplot(223); plot_digits(X_ba[:25], images_per_row=5)\n",
    "plt.subplot(224); plot_digits(X_bb[:25], images_per_row=5)\n",
    "plt.show()"
   ]
  },
  {
   "cell_type": "code",
   "execution_count": 310,
   "id": "2a117010",
   "metadata": {},
   "outputs": [],
   "source": [
    "# Algunos digitos se confunden porque están mal escritos, no son claros y otros\n",
    "# que se aprecian muy bien el clasificador lo hace mal. El algoritmo es lineal,\n",
    "# de baja capacidad. Asigna un peso a cada pixel por clase. Como el 3 y el 5\n",
    "# difieren en pocos pixeles, el sistema puede a veces confundirlos.\n",
    "# La principal diferencia entre un 3 y un 5 es la línea vertical superior, ya que\n",
    "# puede estar a la izquierda o la derecha. Por tanto, el clasificador es sensible\n",
    "# al desplazamiento y rotación de la imágen.\n",
    "# - Reducir la confusion de 3 y 5 preprocesando las imágenes para asegurarse de\n",
    "#   que están centradas y no demasiado rotadas. Esto ayudará a reducir otros\n",
    "#   errores (confusión entre otros números)"
   ]
  },
  {
   "cell_type": "markdown",
   "id": "6617c60e",
   "metadata": {},
   "source": [
    "#### Clasificación multi-etiqueta"
   ]
  },
  {
   "cell_type": "code",
   "execution_count": 311,
   "id": "8c9ebe3a",
   "metadata": {},
   "outputs": [],
   "source": [
    "# En lugar de asignar solo una clase a cada instancia, se asignan varias clases\n",
    "# por cada instancia. Ej. Reconocimiento facial, entrenado para reconocer\n",
    "# caras. Si se le pasa una imagen de dos caras la salida debería ser\n",
    "# [1, 0, 1] --> genera múltiples etiquetas binarias"
   ]
  },
  {
   "cell_type": "code",
   "execution_count": 312,
   "id": "52c89d4f",
   "metadata": {},
   "outputs": [],
   "source": [
    "y_train_large = (y_train >= 7) # Atributo: número grande o no\n",
    "y_train_odd = (y_train % 2 == 1) # Atributo: número impar o no\n",
    "# array con 2 etiquetas para cada instancia\n",
    "y_multilabel = np.c_[y_train_large, y_train_odd]"
   ]
  },
  {
   "cell_type": "code",
   "execution_count": 314,
   "id": "e43f8f3b",
   "metadata": {},
   "outputs": [
    {
     "data": {
      "text/plain": [
       "array([[False,  True]])"
      ]
     },
     "execution_count": 314,
     "metadata": {},
     "output_type": "execute_result"
    }
   ],
   "source": [
    "knn_clf = KNeighborsClassifier() # soporta clasificación multietiqueta\n",
    "knn_clf.fit(X_train, y_multilabel)\n",
    "knn_clf.predict([some_digit]) # genera 2 etiquetas. El número 5 no es grande y\n",
    "# es impar"
   ]
  },
  {
   "cell_type": "code",
   "execution_count": 315,
   "id": "81ca756a",
   "metadata": {},
   "outputs": [
    {
     "data": {
      "text/plain": [
       "0.976410265560605"
      ]
     },
     "execution_count": 315,
     "metadata": {},
     "output_type": "execute_result"
    }
   ],
   "source": [
    "# Varias formas de evaluar clasificadores multietiqueta. La métrica adecuada\n",
    "# depende del proyecto.\n",
    "# Por ej. medir el F1-score para cada etiqueta individual y calcular el\n",
    "# promedio de la puntuación\n",
    "y_train_knn_pred = cross_val_predict(knn_clf, X_train, y_multilabel, cv=3)\n",
    "f1_score(y_multilabel, y_train_knn_pred, average=\"macro\")\n",
    "# Esto asume que todas las etiquetas son igual de importantes. Si se quiere\n",
    "# ponderar, cambiar el parámetro a average=\"weighted\""
   ]
  },
  {
   "cell_type": "code",
   "execution_count": 317,
   "id": "c91676c5",
   "metadata": {},
   "outputs": [
    {
     "data": {
      "text/plain": [
       "array([[False,  True],\n",
       "       [False, False],\n",
       "       [False, False],\n",
       "       ...,\n",
       "       [False,  True],\n",
       "       [False, False],\n",
       "       [ True, False]])"
      ]
     },
     "execution_count": 317,
     "metadata": {},
     "output_type": "execute_result"
    }
   ],
   "source": [
    "y_train_knn_pred"
   ]
  },
  {
   "cell_type": "markdown",
   "id": "15fd5e2e",
   "metadata": {},
   "source": [
    "#### Clasificación multi-salida"
   ]
  },
  {
   "cell_type": "code",
   "execution_count": 318,
   "id": "66fe1e4d",
   "metadata": {},
   "outputs": [],
   "source": [
    "# También llamada clasificación multisalida - multiclase\n",
    "# Es una generalización de la clasificación multi-etiqueta donde cada etiqueta\n",
    "# puede tener varias clases\n",
    "# Por ej. sistema que elimine ruido de imágenes. Toma como entrada una imagen\n",
    "# con ruido y genera una imágen limpia representada como un array de intensidades\n",
    "# de pixel. La salida del clasificador es multietiquta, una etiqueta por pixel,\n",
    "# y cada etiqueta puede tener múltiples valores (intensidades de pixel varían\n",
    "# entre 0 y 255)"
   ]
  },
  {
   "cell_type": "code",
   "execution_count": 319,
   "id": "91fc8bac",
   "metadata": {},
   "outputs": [],
   "source": [
    "# Se añade ruido a las imágenes de los conjuntos de datos\n",
    "noise = np.random.randint(0, 100, (len(X_train), 784))\n",
    "X_train_mod = X_train + noise\n",
    "\n",
    "noise = np.random.randint(0, 100, (len(X_test), 784))\n",
    "X_test_mod = X_test + noise\n",
    "\n",
    "# Las etiquetas son las imágenes originales\n",
    "y_train_mod = X_train\n",
    "y_test_mod = X_test"
   ]
  },
  {
   "cell_type": "code",
   "execution_count": 321,
   "id": "f5ffbf2f",
   "metadata": {},
   "outputs": [
    {
     "data": {
      "image/png": "[encoded data removed]",
      "text/plain": [
       "<Figure size 432x288 with 2 Axes>"
      ]
     },
     "metadata": {
      "needs_background": "light"
     },
     "output_type": "display_data"
    }
   ],
   "source": [
    "some_index = 0\n",
    "plt.subplot(121); plot_digit(X_test_mod[some_index])\n",
    "plt.subplot(122); plot_digit(y_test_mod[some_index])\n",
    "plt.show()"
   ]
  },
  {
   "cell_type": "code",
   "execution_count": 323,
   "id": "d060e3d6",
   "metadata": {},
   "outputs": [
    {
     "data": {
      "image/png": "[encoded data removed]",
      "text/plain": [
       "<Figure size 432x288 with 1 Axes>"
      ]
     },
     "metadata": {
      "needs_background": "light"
     },
     "output_type": "display_data"
    }
   ],
   "source": [
    "knn_clf.fit(X_train_mod, y_train_mod)\n",
    "clean_digit = knn_clf.predict([X_test_mod[some_index]])\n",
    "plot_digit(clean_digit)"
   ]
  }
 ],
 "metadata": {
  "kernelspec": {
   "display_name": "Python 3 (ipykernel)",
   "language": "python",
   "name": "python3"
  },
  "language_info": {
   "codemirror_mode": {
    "name": "ipython",
    "version": 3
   },
   "file_extension": ".py",
   "mimetype": "text/x-python",
   "name": "python",
   "nbconvert_exporter": "python",
   "pygments_lexer": "ipython3",
   "version": "3.7.11"
  }
 },
 "nbformat": 4,
 "nbformat_minor": 5
}
